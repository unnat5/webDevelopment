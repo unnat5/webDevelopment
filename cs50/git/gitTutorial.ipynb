{
 "cells": [
  {
   "cell_type": "markdown",
   "id": "d047c2ef",
   "metadata": {},
   "source": [
    "## Git Tutorial\n"
   ]
  },
  {
   "cell_type": "markdown",
   "id": "51c41189",
   "metadata": {},
   "source": [
    "### Different git commands\n",
    "```\n",
    "1. git clone --- to clone a repository\n",
    "2. git add --  tells git which files it needs to track\n",
    "3. git commit -- create a snap short of the code\n",
    "4. git push -- pushing your code to the server\n",
    "5. git status -- what is current status\n",
    "6. git commit -am \"<message>\" -- this command adds all changes to staging area and then commit changes to our current branch/\n",
    "7. git log\n",
    "8. git reset --hard <commit> -- discard all changes after the certain commit mentioned make it head of our workflow\n",
    "9. git reset --hard origin/master --take make our code indentical to the version of the code on gitHub/\n",
    "10. git pull -- pulling code from the server to local pc\n",
    "11. git branch -- tells us what all branches are there and we are currently on which branch\n",
    "12. git checkout -b <branch name> -- this creates a new branch\n",
    "13. git checkout <branch name> -- this command helps us to switch between branches.\n",
    "14. git merge <branch name> -- merges <branch name> to the current branch.\n",
    "\n",
    "```"
   ]
  },
  {
   "cell_type": "code",
   "execution_count": null,
   "id": "a908d5f2",
   "metadata": {},
   "outputs": [],
   "source": []
  }
 ],
 "metadata": {
  "kernelspec": {
   "display_name": "Python 3 (ipykernel)",
   "language": "python",
   "name": "python3"
  },
  "language_info": {
   "codemirror_mode": {
    "name": "ipython",
    "version": 3
   },
   "file_extension": ".py",
   "mimetype": "text/x-python",
   "name": "python",
   "nbconvert_exporter": "python",
   "pygments_lexer": "ipython3",
   "version": "3.9.13"
  }
 },
 "nbformat": 4,
 "nbformat_minor": 5
}
